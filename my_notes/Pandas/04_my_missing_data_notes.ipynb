{
 "cells": [
  {
   "metadata": {},
   "cell_type": "markdown",
   "source": [
    "# Missing Data\n",
    "- Pandas displays missing data as NaN values\n",
    "- There are also newer specialized null pandas values such as pd.NaT to imply the value missing should be a timestamp\n",
    "#### Options for Missing Data\n",
    "- Keep it\n",
    "- Remove it\n",
    "- Replace it\n",
    "- NB: There is never 100% correct approach that applies to all circumstances, it all depends on the exact situation you encounter! \n",
    "#### Keeping the missing data\n",
    "- Pros\n",
    "    - Easiest to do\n",
    "    - Does not manipulate or change the true data\n",
    "- Cons\n",
    "    - Many methods do no support NaN\n",
    "    - Often there are reasonable guesses\n",
    "#### Dropping or Removing the missing data\n",
    "- Pros\n",
    "    - Easy to do\n",
    "    - Can be based on rules\n",
    "- Cons\n",
    "    - Potential to lose a lot of data or useful information\n",
    "    - Limits trained models for future data\n",
    "#### Dropping a Row\n",
    "- Makes sense when a lot of info is missing(in the various columns)\n",
    "- Often a good idea to calculate a percentage of what data is dropped\n",
    "#### Dropping a Column\n",
    "- Good choice if every row is missing that particular feature\n",
    "#### Filling in the missing data\n",
    "- Pros\n",
    "    - Potential to save a lot of data for use in training a model\n",
    "- Cons\n",
    "    - Hardest to do and somewhat arbitrary \n",
    "    - Potential to lead to false conclusions\n",
    "- Fill with same value\n",
    "    - Good choice if NaN was a placeholder\n",
    "- Fill with interpolated or estimated value\n",
    "    - Much harder and requires reasonable assumptions\n",
    "\n"
   ],
   "id": "5205b50ec8aa2b25"
  },
  {
   "cell_type": "code",
   "id": "initial_id",
   "metadata": {
    "collapsed": true,
    "ExecuteTime": {
     "end_time": "2024-11-03T04:55:06.709819Z",
     "start_time": "2024-11-03T04:55:06.701441Z"
    }
   },
   "source": [
    "import numpy as np\n",
    "import pandas as pd\n",
    "import os"
   ],
   "outputs": [],
   "execution_count": 2
  },
  {
   "metadata": {},
   "cell_type": "code",
   "outputs": [],
   "execution_count": null,
   "source": "",
   "id": "ee3d9b62bc3b4050"
  }
 ],
 "metadata": {
  "kernelspec": {
   "display_name": "Python 3",
   "language": "python",
   "name": "python3"
  },
  "language_info": {
   "codemirror_mode": {
    "name": "ipython",
    "version": 2
   },
   "file_extension": ".py",
   "mimetype": "text/x-python",
   "name": "python",
   "nbconvert_exporter": "python",
   "pygments_lexer": "ipython2",
   "version": "2.7.6"
  }
 },
 "nbformat": 4,
 "nbformat_minor": 5
}
