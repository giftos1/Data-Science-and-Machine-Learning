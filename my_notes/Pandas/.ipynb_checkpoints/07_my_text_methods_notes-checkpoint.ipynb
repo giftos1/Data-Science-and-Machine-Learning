{
 "cells": [
  {
   "metadata": {},
   "cell_type": "markdown",
   "source": [
    "- Text data needs to be cleaned or manipulated for processing. While we can always use a custom apply() function for these tasks, pandas cines with many built-in string method calls\n",
    "- https://pandas.pydata.org/docs/user_guide/text.html"
   ],
   "id": "a9e636baaaf1ac36"
  },
  {
   "metadata": {
    "ExecuteTime": {
     "end_time": "2025-01-23T12:07:32.263143Z",
     "start_time": "2025-01-23T12:07:31.092611Z"
    }
   },
   "cell_type": "code",
   "source": [
    "import pandas as pd\n",
    "import numpy as np"
   ],
   "id": "c35e3e29b8095e88",
   "outputs": [],
   "execution_count": 1
  },
  {
   "metadata": {
    "ExecuteTime": {
     "end_time": "2025-01-23T12:07:36.856156Z",
     "start_time": "2025-01-23T12:07:36.851256Z"
    }
   },
   "cell_type": "code",
   "source": "email = 'theog@email.com'\n",
   "id": "e28e7268d3c766b",
   "outputs": [],
   "execution_count": 2
  },
  {
   "metadata": {
    "ExecuteTime": {
     "end_time": "2025-01-23T12:08:05.680131Z",
     "start_time": "2025-01-23T12:08:05.666058Z"
    }
   },
   "cell_type": "code",
   "source": "email.capitalize()",
   "id": "5786663c893b622",
   "outputs": [
    {
     "data": {
      "text/plain": [
       "'Theog@email.com'"
      ]
     },
     "execution_count": 5,
     "metadata": {},
     "output_type": "execute_result"
    }
   ],
   "execution_count": 5
  },
  {
   "metadata": {
    "ExecuteTime": {
     "end_time": "2025-01-23T12:08:17.216195Z",
     "start_time": "2025-01-23T12:08:17.202750Z"
    }
   },
   "cell_type": "code",
   "source": "email.split('@')",
   "id": "500c831f5abfdd8d",
   "outputs": [
    {
     "data": {
      "text/plain": [
       "['theog', 'email.com']"
      ]
     },
     "execution_count": 6,
     "metadata": {},
     "output_type": "execute_result"
    }
   ],
   "execution_count": 6
  },
  {
   "metadata": {
    "ExecuteTime": {
     "end_time": "2025-01-23T12:09:06.428934Z",
     "start_time": "2025-01-23T12:09:06.417321Z"
    }
   },
   "cell_type": "code",
   "source": "names = pd.Series(['andrew', 'jose', 'peter', 'james', '5'])",
   "id": "b0d0b6b0de1ccc91",
   "outputs": [],
   "execution_count": 7
  },
  {
   "metadata": {
    "ExecuteTime": {
     "end_time": "2025-01-23T12:09:09.545531Z",
     "start_time": "2025-01-23T12:09:09.528795Z"
    }
   },
   "cell_type": "code",
   "source": "names",
   "id": "d5fa3d4023b7670c",
   "outputs": [
    {
     "data": {
      "text/plain": [
       "0    andrew\n",
       "1      jose\n",
       "2     peter\n",
       "3     james\n",
       "4         5\n",
       "dtype: object"
      ]
     },
     "execution_count": 8,
     "metadata": {},
     "output_type": "execute_result"
    }
   ],
   "execution_count": 8
  },
  {
   "metadata": {
    "ExecuteTime": {
     "end_time": "2025-01-23T12:09:30.903931Z",
     "start_time": "2025-01-23T12:09:30.892330Z"
    }
   },
   "cell_type": "code",
   "source": "names.str.upper()",
   "id": "b8b61c9c121a2e99",
   "outputs": [
    {
     "data": {
      "text/plain": [
       "0    ANDREW\n",
       "1      JOSE\n",
       "2     PETER\n",
       "3     JAMES\n",
       "4         5\n",
       "dtype: object"
      ]
     },
     "execution_count": 9,
     "metadata": {},
     "output_type": "execute_result"
    }
   ],
   "execution_count": 9
  },
  {
   "metadata": {
    "ExecuteTime": {
     "end_time": "2025-01-23T12:10:51.550501Z",
     "start_time": "2025-01-23T12:10:51.534984Z"
    }
   },
   "cell_type": "code",
   "source": "names.str.isdigit()",
   "id": "22007f0007448550",
   "outputs": [
    {
     "data": {
      "text/plain": [
       "0    False\n",
       "1    False\n",
       "2    False\n",
       "3    False\n",
       "4     True\n",
       "dtype: bool"
      ]
     },
     "execution_count": 10,
     "metadata": {},
     "output_type": "execute_result"
    }
   ],
   "execution_count": 10
  },
  {
   "metadata": {
    "ExecuteTime": {
     "end_time": "2025-01-23T12:11:25.184326Z",
     "start_time": "2025-01-23T12:11:25.176070Z"
    }
   },
   "cell_type": "code",
   "source": "names[names.str.isdigit()]",
   "id": "e04011006e18dc05",
   "outputs": [
    {
     "data": {
      "text/plain": [
       "4    5\n",
       "dtype: object"
      ]
     },
     "execution_count": 13,
     "metadata": {},
     "output_type": "execute_result"
    }
   ],
   "execution_count": 13
  },
  {
   "metadata": {
    "ExecuteTime": {
     "end_time": "2025-01-23T12:12:57.069943Z",
     "start_time": "2025-01-23T12:12:57.062076Z"
    }
   },
   "cell_type": "code",
   "source": "tech_finance = ['GOOG, APPL, AMZN', 'JPM, BAC, GS']",
   "id": "bb2eb1f2bd6a3e85",
   "outputs": [],
   "execution_count": 14
  },
  {
   "metadata": {
    "ExecuteTime": {
     "end_time": "2025-01-23T12:12:59.845176Z",
     "start_time": "2025-01-23T12:12:59.837292Z"
    }
   },
   "cell_type": "code",
   "source": "len(tech_finance)",
   "id": "d907c8fde813c028",
   "outputs": [
    {
     "data": {
      "text/plain": [
       "2"
      ]
     },
     "execution_count": 15,
     "metadata": {},
     "output_type": "execute_result"
    }
   ],
   "execution_count": 15
  },
  {
   "metadata": {
    "ExecuteTime": {
     "end_time": "2025-01-23T12:13:23.720706Z",
     "start_time": "2025-01-23T12:13:23.713214Z"
    }
   },
   "cell_type": "code",
   "source": "tickers = pd.Series(tech_finance)",
   "id": "ac7e528ed6af3a34",
   "outputs": [],
   "execution_count": 16
  },
  {
   "metadata": {
    "ExecuteTime": {
     "end_time": "2025-01-23T12:13:25.820094Z",
     "start_time": "2025-01-23T12:13:25.813115Z"
    }
   },
   "cell_type": "code",
   "source": "tickers",
   "id": "ab569e1f7ee98029",
   "outputs": [
    {
     "data": {
      "text/plain": [
       "0    GOOG, APPL, AMZN\n",
       "1        JPM, BAC, GS\n",
       "dtype: object"
      ]
     },
     "execution_count": 17,
     "metadata": {},
     "output_type": "execute_result"
    }
   ],
   "execution_count": 17
  },
  {
   "metadata": {
    "ExecuteTime": {
     "end_time": "2025-01-23T12:14:54.038910Z",
     "start_time": "2025-01-23T12:14:54.025152Z"
    }
   },
   "cell_type": "code",
   "source": "tickers.str.split(',').str[0]",
   "id": "9adc28927d7cd7c8",
   "outputs": [
    {
     "data": {
      "text/plain": [
       "0    GOOG\n",
       "1     JPM\n",
       "dtype: object"
      ]
     },
     "execution_count": 21,
     "metadata": {},
     "output_type": "execute_result"
    }
   ],
   "execution_count": 21
  },
  {
   "metadata": {
    "ExecuteTime": {
     "end_time": "2025-01-23T12:15:38.013655Z",
     "start_time": "2025-01-23T12:15:37.998752Z"
    }
   },
   "cell_type": "code",
   "source": "tickers.str.split(',', expand=True)",
   "id": "5e0ac4c4203debeb",
   "outputs": [
    {
     "data": {
      "text/plain": [
       "      0      1      2\n",
       "0  GOOG   APPL   AMZN\n",
       "1   JPM    BAC     GS"
      ],
      "text/html": [
       "<div>\n",
       "<style scoped>\n",
       "    .dataframe tbody tr th:only-of-type {\n",
       "        vertical-align: middle;\n",
       "    }\n",
       "\n",
       "    .dataframe tbody tr th {\n",
       "        vertical-align: top;\n",
       "    }\n",
       "\n",
       "    .dataframe thead th {\n",
       "        text-align: right;\n",
       "    }\n",
       "</style>\n",
       "<table border=\"1\" class=\"dataframe\">\n",
       "  <thead>\n",
       "    <tr style=\"text-align: right;\">\n",
       "      <th></th>\n",
       "      <th>0</th>\n",
       "      <th>1</th>\n",
       "      <th>2</th>\n",
       "    </tr>\n",
       "  </thead>\n",
       "  <tbody>\n",
       "    <tr>\n",
       "      <th>0</th>\n",
       "      <td>GOOG</td>\n",
       "      <td>APPL</td>\n",
       "      <td>AMZN</td>\n",
       "    </tr>\n",
       "    <tr>\n",
       "      <th>1</th>\n",
       "      <td>JPM</td>\n",
       "      <td>BAC</td>\n",
       "      <td>GS</td>\n",
       "    </tr>\n",
       "  </tbody>\n",
       "</table>\n",
       "</div>"
      ]
     },
     "execution_count": 22,
     "metadata": {},
     "output_type": "execute_result"
    }
   ],
   "execution_count": 22
  },
  {
   "metadata": {
    "ExecuteTime": {
     "end_time": "2025-01-23T12:17:06.200486Z",
     "start_time": "2025-01-23T12:17:06.193529Z"
    }
   },
   "cell_type": "code",
   "source": "messy_names = pd.Series(['andrew  ', 'bo;bo', '  claire  '])",
   "id": "d0e0dc1b28576739",
   "outputs": [],
   "execution_count": 23
  },
  {
   "metadata": {
    "ExecuteTime": {
     "end_time": "2025-01-23T12:17:08.652152Z",
     "start_time": "2025-01-23T12:17:08.643763Z"
    }
   },
   "cell_type": "code",
   "source": "messy_names",
   "id": "8a387eef79d59fa1",
   "outputs": [
    {
     "data": {
      "text/plain": [
       "0      andrew  \n",
       "1         bo;bo\n",
       "2      claire  \n",
       "dtype: object"
      ]
     },
     "execution_count": 24,
     "metadata": {},
     "output_type": "execute_result"
    }
   ],
   "execution_count": 24
  },
  {
   "metadata": {},
   "cell_type": "code",
   "outputs": [],
   "execution_count": null,
   "source": "",
   "id": "f0cd8071add60bf2"
  }
 ],
 "metadata": {
  "kernelspec": {
   "display_name": "Python 3",
   "language": "python",
   "name": "python3"
  },
  "language_info": {
   "codemirror_mode": {
    "name": "ipython",
    "version": 2
   },
   "file_extension": ".py",
   "mimetype": "text/x-python",
   "name": "python",
   "nbconvert_exporter": "python",
   "pygments_lexer": "ipython2",
   "version": "2.7.6"
  }
 },
 "nbformat": 4,
 "nbformat_minor": 5
}
