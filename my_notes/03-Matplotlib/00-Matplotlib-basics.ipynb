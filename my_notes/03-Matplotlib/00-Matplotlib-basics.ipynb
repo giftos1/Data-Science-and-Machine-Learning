{
 "cells": [
  {
   "metadata": {
    "ExecuteTime": {
     "end_time": "2025-01-30T05:10:16.929271Z",
     "start_time": "2025-01-30T05:10:16.283066Z"
    }
   },
   "cell_type": "code",
   "source": [
    "import numpy as np\n",
    "import matplotlib.pyplot as plt"
   ],
   "id": "b6c5410b32210e59",
   "outputs": [],
   "execution_count": 4
  },
  {
   "metadata": {},
   "cell_type": "markdown",
   "source": [
    "- Visualizing data is crucial to quickly understanding trends and relationships in your dataset\n",
    "- Matplotlib is one of the most popular libraries for plotting with Python\n",
    "- It is known as the \"Grandfather\" of plotting and visualization libraries in Python\n",
    "- Many other visualization libraries are built firectly off of Matplotlib (e.g Seaborn and Pandas built-in visualization)\n",
    "- Matplotlib is heavily inspired by the plotting functions of the Matlab programming Language\n",
    "- It allows for the creation of almost any plot type and heavy customization\n",
    "- This ability for heavy customization can be confusing at first due to Matplotlib's syntax\n",
    "- This is mainly due to the fact that there are actually two separate approaches to creating plots, functional based methods and OOP based methods"
   ],
   "id": "9da30ec897625f1f"
  },
  {
   "metadata": {},
   "cell_type": "markdown",
   "source": "# Matplotlib Basics",
   "id": "92d3ff19c3e6250f"
  },
  {
   "metadata": {},
   "cell_type": "markdown",
   "source": [
    "- The most way basic way to use Matplotlib is through the function calls:\n",
    "    - plt.plot(x,y)\n",
    "- These function calls are simple to use, but don't allow for very high degrees of control.\n",
    "- There are slight differences in displaying plots within a notebook versus running a python script\n",
    "- If you are running .py scripts instead ig .ipynb notebooks, you will need to add the plt.show() command"
   ],
   "id": "781ade9458871f0a"
  },
  {
   "metadata": {
    "ExecuteTime": {
     "end_time": "2025-01-30T05:11:26.171152Z",
     "start_time": "2025-01-30T05:11:26.163174Z"
    }
   },
   "cell_type": "code",
   "source": "x = np.arange(0, 10)",
   "id": "70c43070c433bd2a",
   "outputs": [],
   "execution_count": 5
  },
  {
   "metadata": {
    "ExecuteTime": {
     "end_time": "2025-01-30T05:11:34.900530Z",
     "start_time": "2025-01-30T05:11:34.893665Z"
    }
   },
   "cell_type": "code",
   "source": "y = 2 * x",
   "id": "9b9b17665bfa037d",
   "outputs": [],
   "execution_count": 6
  },
  {
   "metadata": {
    "ExecuteTime": {
     "end_time": "2025-01-30T05:11:38.545036Z",
     "start_time": "2025-01-30T05:11:38.533120Z"
    }
   },
   "cell_type": "code",
   "source": "x",
   "id": "e8210d10e02f3e26",
   "outputs": [
    {
     "data": {
      "text/plain": [
       "array([0, 1, 2, 3, 4, 5, 6, 7, 8, 9])"
      ]
     },
     "execution_count": 7,
     "metadata": {},
     "output_type": "execute_result"
    }
   ],
   "execution_count": 7
  },
  {
   "metadata": {
    "ExecuteTime": {
     "end_time": "2025-01-30T05:11:40.229900Z",
     "start_time": "2025-01-30T05:11:40.222934Z"
    }
   },
   "cell_type": "code",
   "source": "y",
   "id": "38edef53a6b737cb",
   "outputs": [
    {
     "data": {
      "text/plain": [
       "array([ 0,  2,  4,  6,  8, 10, 12, 14, 16, 18])"
      ]
     },
     "execution_count": 8,
     "metadata": {},
     "output_type": "execute_result"
    }
   ],
   "execution_count": 8
  },
  {
   "metadata": {
    "ExecuteTime": {
     "end_time": "2025-01-30T05:23:02.937665Z",
     "start_time": "2025-01-30T05:23:02.737009Z"
    }
   },
   "cell_type": "code",
   "source": [
    "plt.plot(x, y) # can add a semicolon as such: plt.plot(x,y); to only render the visualization and not the line that shows the object type at memory location\n",
    "# plt.show() # if you are running a py script. Use it to only show the rendering of the visualization\n",
    "\n",
    "# These should all be in one cell to avoid errors\n",
    "plt.title('String Title')\n",
    "plt.xlabel('X Axis')\n",
    "plt.ylabel('Y Axis')\n",
    "plt.xlim(0, 6) # set own limits on x axis\n",
    "plt.ylim(0, 15) # set own limits on y axis\n",
    "plt.savefig('myfirstplot.png') # can provide full file path if saving in a different location"
   ],
   "id": "589ccb8e30efd8a7",
   "outputs": [
    {
     "data": {
      "text/plain": [
       "<Figure size 640x480 with 1 Axes>"
      ],
      "image/png": "[encoded data removed]"
     },
     "metadata": {},
     "output_type": "display_data"
    }
   ],
   "execution_count": 24
  },
  {
   "metadata": {
    "ExecuteTime": {
     "end_time": "2025-01-30T05:21:33.007507Z",
     "start_time": "2025-01-30T05:21:33.000666Z"
    }
   },
   "cell_type": "code",
   "source": "# help(plt.savefig)",
   "id": "8f0198526b02f542",
   "outputs": [],
   "execution_count": 23
  },
  {
   "metadata": {},
   "cell_type": "code",
   "outputs": [],
   "execution_count": null,
   "source": "",
   "id": "4657947046343fba"
  }
 ],
 "metadata": {
  "kernelspec": {
   "name": "python3",
   "language": "python",
   "display_name": "Python 3 (ipykernel)"
  }
 },
 "nbformat": 5,
 "nbformat_minor": 9
}
