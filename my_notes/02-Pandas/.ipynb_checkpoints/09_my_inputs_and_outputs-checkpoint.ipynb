{
 "cells": [
  {
   "metadata": {},
   "cell_type": "markdown",
   "source": [
    "- You may need to know the exact directory location and correct file name\n",
    "- You may need passwords or permissions for certain data inputs (e.g. a SQL database password)\n",
    "- Documents to take note in this file: CSV files, HTML tables, Excel Files, SQL Databases"
   ],
   "id": "97ba7c67cee44998"
  },
  {
   "metadata": {
    "ExecuteTime": {
     "end_time": "2025-01-25T11:27:22.645088Z",
     "start_time": "2025-01-25T11:27:22.640298Z"
    }
   },
   "cell_type": "code",
   "source": [
    "import pandas as pd\n",
    "import numpy as np"
   ],
   "id": "3c91edd762eb69fc",
   "outputs": [],
   "execution_count": 2
  },
  {
   "metadata": {
    "ExecuteTime": {
     "end_time": "2025-01-25T11:34:32.309374Z",
     "start_time": "2025-01-25T11:34:32.304870Z"
    }
   },
   "cell_type": "code",
   "source": "pwd",
   "id": "118a88aab0773685",
   "outputs": [
    {
     "data": {
      "text/plain": [
       "'C:\\\\Users\\\\gifts\\\\DataspellProjects\\\\Data-Science-and-Machine-Learning\\\\my_notes\\\\Pandas'"
      ]
     },
     "execution_count": 4,
     "metadata": {},
     "output_type": "execute_result"
    }
   ],
   "execution_count": 4
  },
  {
   "metadata": {
    "ExecuteTime": {
     "end_time": "2025-01-25T11:35:24.224206Z",
     "start_time": "2025-01-25T11:35:24.203320Z"
    }
   },
   "cell_type": "code",
   "source": "ls",
   "id": "de7190e41d5d70d9",
   "outputs": [
    {
     "name": "stdout",
     "output_type": "stream",
     "text": [
      " Volume in drive C is Windows-SSD\n",
      " Volume Serial Number is 16CD-37FD\n",
      "\n",
      " Directory of C:\\Users\\gifts\\DataspellProjects\\Data-Science-and-Machine-Learning\\my_notes\\Pandas\n",
      "\n",
      "25/01/2025  09:35 PM    <DIR>          .\n",
      "07/01/2025  11:17 PM    <DIR>          ..\n",
      "25/01/2025  08:22 PM    <DIR>          .ipynb_checkpoints\n",
      "07/01/2025  11:17 PM           751,433 00_my_series_notes.ipynb\n",
      "07/01/2025  11:17 PM           142,110 01_my_dataframes_notes.ipynb\n",
      "07/01/2025  11:17 PM            67,431 02_my_conditional_filtering_notes.ipynb\n",
      "07/01/2025  11:17 PM           169,270 03_my_useful_methods_notes.ipynb\n",
      "07/01/2025  11:17 PM         1,059,563 04_my_missing_data_notes.ipynb\n",
      "07/01/2025  11:45 PM           190,953 05_my_groupby_operations_and_multiIndex_notes.ipynb\n",
      "17/01/2025  01:17 AM            54,672 06_my_combining_DataFrames.ipynb\n",
      "23/01/2025  10:29 PM            12,465 07_my_text_methods_notes.ipynb\n",
      "25/01/2025  09:21 PM            27,140 08_my_time_methods_notes.ipynb\n",
      "25/01/2025  09:35 PM             4,851 09_my_inputs_and_outputs.ipynb\n",
      "07/01/2025  11:17 PM               652 10_my_pivot_tables.ipynb\n",
      "07/01/2025  11:17 PM               652 11_my_pandas_project_exercise.ipynb\n",
      "07/01/2025  11:17 PM                51 example.csv\n",
      "07/01/2025  11:17 PM             5,022 example.xlsx\n",
      "07/01/2025  11:17 PM        25,112,317 hotel_booking_data.csv\n",
      "07/01/2025  11:17 PM               177 movie_scores.csv\n",
      "07/01/2025  11:17 PM            18,125 mpg.csv\n",
      "07/01/2025  11:17 PM             5,022 my_excel_file.xlsx\n",
      "07/01/2025  11:17 PM                51 new_file.csv\n",
      "07/01/2025  11:17 PM             5,021 new_workbook.xlsx\n",
      "07/01/2025  11:17 PM                51 newfile.csv\n",
      "07/01/2025  11:17 PM            52,132 reshaping_pivot.png\n",
      "07/01/2025  11:17 PM             5,800 RetailSales_BeerWineLiquor.csv\n",
      "07/01/2025  11:17 PM             1,320 Sales_Funnel_CRM.csv\n",
      "07/01/2025  11:17 PM             1,407 sample_table.html\n",
      "07/01/2025  11:17 PM               590 simple.html\n",
      "07/01/2025  11:17 PM            18,752 tips.csv\n",
      "              27 File(s)     27,707,030 bytes\n",
      "               3 Dir(s)  571,233,779,712 bytes free\n"
     ]
    }
   ],
   "execution_count": 6
  },
  {
   "metadata": {},
   "cell_type": "code",
   "outputs": [],
   "execution_count": null,
   "source": "",
   "id": "487addfb1655ec51"
  }
 ],
 "metadata": {
  "kernelspec": {
   "display_name": "Python 3",
   "language": "python",
   "name": "python3"
  },
  "language_info": {
   "codemirror_mode": {
    "name": "ipython",
    "version": 2
   },
   "file_extension": ".py",
   "mimetype": "text/x-python",
   "name": "python",
   "nbconvert_exporter": "python",
   "pygments_lexer": "ipython2",
   "version": "2.7.6"
  }
 },
 "nbformat": 4,
 "nbformat_minor": 5
}
